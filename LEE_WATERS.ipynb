{
  "nbformat": 4,
  "nbformat_minor": 0,
  "metadata": {
    "colab": {
      "provenance": [],
      "authorship_tag": "ABX9TyMqLi0KcRvEA+XUm0LSRMCZ",
      "include_colab_link": true
    },
    "kernelspec": {
      "name": "python3",
      "display_name": "Python 3"
    },
    "language_info": {
      "name": "python"
    }
  },
  "cells": [
    {
      "cell_type": "markdown",
      "metadata": {
        "id": "view-in-github",
        "colab_type": "text"
      },
      "source": [
        "<a href=\"https://colab.research.google.com/github/leemichaelwaters/analyst-take-home-task/blob/master/LEE_WATERS.ipynb\" target=\"_parent\"><img src=\"https://colab.research.google.com/assets/colab-badge.svg\" alt=\"Open In Colab\"/></a>"
      ]
    },
    {
      "cell_type": "markdown",
      "source": [
        "# CHOP Data Analyst: Data Exercise"
      ],
      "metadata": {
        "id": "5j9eiGiANJbL"
      }
    },
    {
      "cell_type": "markdown",
      "source": [
        "## Part 1: Assemble the project cohort\n",
        "\n",
        "The project goal is to identify patients seen for drug overdose, determine if they had an active opioid at the start of the encounter, and if they had any readmissions for drug overdose.\n",
        "\n",
        "Your task is to assemble the study cohort by identifying encounters that meet the following criteria:\n",
        "\n",
        "1. ~The patient’s visit is an encounter for drug overdose~\n",
        "2. ~The hospital encounter occurs after July 15, 1999~\n",
        "3. ~The patient’s age at time of encounter is between 18 and 35 (Patient is considered to be 35 until turning 36)~"
      ],
      "metadata": {
        "id": "gMap0V8TOOWt"
      }
    },
    {
      "cell_type": "code",
      "source": [
        "# Import packages\n",
        "import pandas as pd\n",
        "import numpy as np\n",
        "\n",
        "from datetime import datetime\n",
        "from google.colab import files"
      ],
      "metadata": {
        "id": "wT_mo3D3_G51"
      },
      "execution_count": null,
      "outputs": []
    },
    {
      "cell_type": "markdown",
      "source": [
        "### 1. The patient's visit is for drug overdose"
      ],
      "metadata": {
        "id": "6Kv0FIMMSN0w"
      }
    },
    {
      "cell_type": "code",
      "source": [
        "# Import encounters\n",
        "df_encounters = pd.read_csv('https://raw.githubusercontent.com/chop-analytics/analyst-take-home-task/master/datasets/encounters.csv')\n",
        "df_drug_overdose = df_encounters[df_encounters['REASONDESCRIPTION'] == 'Drug overdose']\n",
        "\n",
        "# Export CSV\n",
        "def export_dataframe_to_csv(df, filename):\n",
        "    # Export DataFrame to CSV\n",
        "    df.to_csv(filename, index=False)\n",
        "\n",
        "    # Download the CSV file\n",
        "    files.download(filename)\n",
        "\n",
        "#export_dataframe_to_csv(df_drug_overdose, 'df_drug_overdose.csv')"
      ],
      "metadata": {
        "id": "UCRzWtQKQPr3"
      },
      "execution_count": null,
      "outputs": []
    },
    {
      "cell_type": "markdown",
      "source": [
        "### 2. The visit occurs after July 15, 1999"
      ],
      "metadata": {
        "id": "jy47muBqSWql"
      }
    },
    {
      "cell_type": "code",
      "source": [
        "# Convert the 'START' column to datetime\n",
        "df_start_datetime = df_drug_overdose.copy()\n",
        "df_start_datetime['START'] = pd.to_datetime(df_start_datetime['START'])\n",
        "\n",
        "# Filter for hospital encounters after July 15, 1999\n",
        "df_after_1999_07_15 = df_start_datetime[df_start_datetime['START'] > '1999-07-15']\n",
        "\n",
        "# Export CSV\n",
        "#export_dataframe_to_csv(df_after_1999_07_15, 'df_after_1999_07_15.csv')"
      ],
      "metadata": {
        "id": "XsYCbYNuYolP"
      },
      "execution_count": null,
      "outputs": []
    },
    {
      "cell_type": "markdown",
      "source": [
        "### The patient's age is between 18 and 35"
      ],
      "metadata": {
        "id": "jjgBMU-CSbc2"
      }
    },
    {
      "cell_type": "code",
      "source": [
        "# Import patients\n",
        "df_patients = pd.read_csv('https://raw.githubusercontent.com/chop-analytics/analyst-take-home-task/master/datasets/patients.csv')\n",
        "\n",
        "# Clean data\n",
        "df_clean = df_patients.rename(columns={'Id': 'PATIENT'})\n",
        "\n",
        "# Merge dataframes\n",
        "df_merge = pd.merge(df_after_1999_07_15, df_clean)\n",
        "\n",
        "# Convert the 'BIRTHDATE' column to datetime\n",
        "df_merge['BIRTHDATE'] = pd.to_datetime(df_merge['BIRTHDATE'])\n",
        "\n",
        "# Create 'AGE' column\n",
        "today = datetime.today().date()\n",
        "df_merge['AGE'] = df_merge['BIRTHDATE'].apply(lambda x: today.year - x.year - ((today.month, today.day) < (x.month, x.day)))\n",
        "\n",
        "# Filter for ages between 18 and 35\n",
        "df_age_18_to_35 = df_merge[(df_merge['AGE'] >= 18) & (df_merge['AGE'] <= 35)]\n",
        "\n",
        "# Export CSV\n",
        "#export_dataframe_to_csv(df_age_18_to_35, 'df_age_18_to_35.csv')"
      ],
      "metadata": {
        "id": "6gnEXZPedk6q"
      },
      "execution_count": null,
      "outputs": []
    },
    {
      "cell_type": "markdown",
      "source": [
        "## Part 2: Create additional fields\n",
        "\n",
        "With your durg overdose encounter, create the following indicators:\n",
        "\n",
        "1. ~`DEATH_AT_VISIT_IND`: `1` if patient died during the drug overdose encounter, `0` if the patient died at a different time~\n",
        "2. ~`COUNT_CURRENT_MEDS`: Count of active medications at the start of the drug overdose encounter~\n",
        "3. ~`CURRENT_OPIOID_IND`: `1` if the patient had at least one active medication at the start of the overdose encounter that is on the Opioids List (provided below), `0` if not~\n",
        "4. ~`READMISSION_90_DAY_IND`: `1` if the visit resulted in a subsequent drug overdose readmission within 90 days, `0` if not~\n",
        "5. ~`READMISSION_30_DAY_IND`: `1` if the visit resulted in a subsequent drug overdose readmission within 30 days, `0` if not~\n",
        "6. ~`FIRST_READMISSION_DATE`: The date of the index visit's first readmission for drug overdose. Field should be left as `N/A` if no readmission for drug overdose within 90 days~\n"
      ],
      "metadata": {
        "id": "UUCaxBwHGO7a"
      }
    },
    {
      "cell_type": "markdown",
      "source": [
        "### Did patient die during visit?"
      ],
      "metadata": {
        "id": "z4ckMWvOSnPq"
      }
    },
    {
      "cell_type": "code",
      "source": [
        "# Create a copy of the DataFrame\n",
        "df_death_at_visit = df_age_18_to_35.copy()\n",
        "\n",
        "# Convert 'STOP' column to datetime\n",
        "df_death_at_visit['STOP'] = pd.to_datetime(df_death_at_visit['STOP'])\n",
        "\n",
        "# Remove the time component from 'STOP' column and keep only the date\n",
        "df_death_at_visit['STOP'] = df_death_at_visit['STOP'].dt.date\n",
        "\n",
        "# Convert 'DEATHDATE' column to datetime\n",
        "df_death_at_visit['DEATHDATE'] = pd.to_datetime(df_death_at_visit['DEATHDATE'])\n",
        "\n",
        "# Create the 'DEATH_AT_VISIT_IND' column based on conditions\n",
        "df_death_at_visit['DEATH_AT_VISIT_IND'] = 0\n",
        "df_death_at_visit.loc[df_death_at_visit['STOP'] == df_death_at_visit['DEATHDATE'], 'DEATH_AT_VISIT_IND'] = 1\n",
        "\n",
        "# Export CSV\n",
        "#export_dataframe_to_csv(df_death_at_visit, 'df_death_at_visit.csv')"
      ],
      "metadata": {
        "id": "fVjAwM_QpVmJ"
      },
      "execution_count": null,
      "outputs": []
    },
    {
      "cell_type": "markdown",
      "source": [
        "### Count of active medications during visit"
      ],
      "metadata": {
        "id": "eZX9sdQwSu2W"
      }
    },
    {
      "cell_type": "code",
      "source": [
        "# Import medications\n",
        "df_medications = pd.read_csv('https://raw.githubusercontent.com/chop-analytics/analyst-take-home-task/master/datasets/medications.csv')\n",
        "\n",
        "# Convert columns to datetime\n",
        "df_medications['START'] = pd.to_datetime(df_medications['START'])\n",
        "df_medications['STOP'] = pd.to_datetime(df_medications['STOP'])\n",
        "\n",
        "# Create a copy of df_death_at_visit and name it df_current_meds\n",
        "df_current_meds = df_death_at_visit.copy()\n",
        "\n",
        "# Count active medications at the start of drug overdose encounter\n",
        "df_current_meds['COUNT_CURRENT_MEDS'] = 0\n",
        "for index, row in df_current_meds.iterrows():\n",
        "    patient = row['PATIENT']\n",
        "    encounter_date = row['START']\n",
        "    df_current_meds.loc[index, 'COUNT_CURRENT_MEDS'] = len(df_medications[\n",
        "      (df_medications['PATIENT'] == patient) &\n",
        "      (encounter_date > df_medications['START']) &\n",
        "      ((encounter_date < df_medications['STOP']) | pd.isna(df_medications['STOP']))\n",
        "      ])\n",
        "\n",
        "# Export CSV\n",
        "#export_dataframe_to_csv(df_current_meds, 'df_current_meds.csv')"
      ],
      "metadata": {
        "id": "jel_t5_pDfKw"
      },
      "execution_count": null,
      "outputs": []
    },
    {
      "cell_type": "markdown",
      "source": [
        "### Was patient taking medicine in Opiod List?"
      ],
      "metadata": {
        "id": "aRaUmpmITDYS"
      }
    },
    {
      "cell_type": "code",
      "source": [
        "# Create a copy of df_death_at_visit and name it df_current_meds\n",
        "df_current_opiod = df_current_meds.copy()\n",
        "\n",
        "# Define opiods list\n",
        "opiods = [\n",
        "    'Hydromorphone 325 MG',\n",
        "    'Fentanyl 100 MCG',\n",
        "    'Oxycodone-acetaminophen 100ML',\n",
        "]\n",
        "\n",
        "# Index if the patient had at least one active medication at the start of the\n",
        "# overdose encounter that is on the Opioids List\n",
        "df_current_opiod['CURRENT_OPIOID_IND'] = 0\n",
        "for index, row in df_current_opiod.iterrows():\n",
        "    patient = row['PATIENT']\n",
        "    encounter_date = row['START']\n",
        "    filtered_medications = df_medications[\n",
        "        (df_medications['PATIENT'] == patient) &\n",
        "        (encounter_date > df_medications['START']) &\n",
        "        ((encounter_date < df_medications['STOP']) | pd.isna(df_medications['STOP']))\n",
        "    ]\n",
        "    if not filtered_medications.empty:\n",
        "        opioids_present = filtered_medications['DESCRIPTION'].isin(opiods)\n",
        "        if opioids_present.any():\n",
        "            df_current_opiod.loc[index, 'CURRENT_OPIOID_IND'] = 1\n",
        "\n",
        "# Export CSV\n",
        "#export_dataframe_to_csv(df_current_opiod, 'df_current_opiod.csv')"
      ],
      "metadata": {
        "id": "AxvHrQkXGYWc"
      },
      "execution_count": null,
      "outputs": []
    },
    {
      "cell_type": "markdown",
      "source": [
        "### Was patient readmitted within 90 days? If so, when?"
      ],
      "metadata": {
        "id": "E8y3mWsKTM67"
      }
    },
    {
      "cell_type": "code",
      "source": [
        "# Create a copy of the dataframe\n",
        "df_readmission_90 = df_current_opiod.copy()\n",
        "\n",
        "# Function to calculate the readmission indicator and first readmission date\n",
        "def calculate_readmission_ind(df, days, readmission_col, first_readmission_col):\n",
        "    # Sort the dataframe by patient ID and visit date\n",
        "    df.sort_values(['PATIENT', 'START'], inplace=True)\n",
        "\n",
        "    df[readmission_col] = 0\n",
        "    df[first_readmission_col] = pd.NaT  # Set column to NaT\n",
        "\n",
        "    # Iterate over each patient\n",
        "    for patient_id, patient_group in df.groupby('PATIENT'):\n",
        "        # Get the indices of the patient's visits\n",
        "        indices = patient_group.index.tolist()\n",
        "\n",
        "        # Iterate over the indices starting from the second visit\n",
        "        for i in range(1, len(indices)):\n",
        "            current_index = indices[i]\n",
        "            previous_index = indices[i-1]\n",
        "            current_start = df.at[current_index, 'START']\n",
        "            previous_start = df.at[previous_index, 'START']\n",
        "\n",
        "            # Check if the previous visit is within the specified days\n",
        "            if (current_start - previous_start).days <= days:\n",
        "                df.at[current_index, readmission_col] = 1\n",
        "                if pd.isna(df.at[current_index, first_readmission_col]):  # Check if value is NaN\n",
        "                    df.at[current_index, first_readmission_col] = df.at[previous_index, 'START']\n",
        "\n",
        "    return df\n",
        "\n",
        "# Apply the function to calculate READMISSION_90_DAY_IND with 90 days and FIRST_READMISSION_DATE\n",
        "df_readmission_90 = calculate_readmission_ind(df_readmission_90, 90, 'READMISSION_90_DAY_IND', 'FIRST_READMISSION_DATE_90')\n",
        "\n",
        "# Export CSV\n",
        "#export_dataframe_to_csv(df_readmission_90, 'df_readmission_90.csv')"
      ],
      "metadata": {
        "id": "t0o0n6K9B9wc"
      },
      "execution_count": null,
      "outputs": []
    },
    {
      "cell_type": "markdown",
      "source": [
        "### Was patient readmitted within 30 days? If so, when?\n",
        "\n",
        "---\n",
        "\n"
      ],
      "metadata": {
        "id": "6-X5EDbwTRBn"
      }
    },
    {
      "cell_type": "code",
      "source": [
        "# Create a copy of the dataframe\n",
        "df_readmission_30 = df_readmission_90.copy()\n",
        "\n",
        "# Apply the function to calculate READMISSION_30_DAY_IND with 30 days\n",
        "df_readmission_30 = calculate_readmission_ind(df_readmission_30, 30, 'READMISSION_30_DAY_IND', 'FIRST_READMISSION_DATE_30')\n",
        "\n",
        "# Export CSV\n",
        "#export_dataframe_to_csv(df_readmission_30, 'df_readmission_30.csv')"
      ],
      "metadata": {
        "id": "tNOmE8BQMwMZ"
      },
      "execution_count": null,
      "outputs": []
    },
    {
      "cell_type": "markdown",
      "source": [
        "# Part 3: Export the data to a CSV file"
      ],
      "metadata": {
        "id": "vueDHnwbi7WJ"
      }
    },
    {
      "cell_type": "markdown",
      "source": [
        "Export a dataset containing these required fields:\n",
        "\n",
        "| Field name              | Field Description                                                                                                  | Data Type |\n",
        "|---------------------------|-------------------------------------------------------------------------------------------------------------------|-----------|\n",
        "| `PATIENT_ID`              | Patient identifier                                                                                                | Character String |\n",
        "| `ENCOUNTER_ID`            | Visit identifier                                                                                                  | Character string |\n",
        "| `HOSPITAL_ENCOUNTER_DATE` | Beginning of hospital encounter date                                                                              | Date/time |\n",
        "| `AGE_AT_VISIT`            | Patient age at admission                                                                                          | Num |\n",
        "| `DEATH_AT_VISIT_IND`      | Indicator if the patient died during the drug overdose encounter. Leave N/A if patient has not died              | 0 /1 |\n",
        "| `COUNT_CURRENT_MEDS`      | Count of active medications at the start of the drug overdose encounter                                           | Num |\n",
        "| `CURRENT_OPIOID_IND`      | Indicator if the patient had at least one active medication at the start of the overdose encounter that is on the Opioids List (provided below) | 0/1 |\n",
        "| `READMISSION_90_DAY_IND`  | Indicator if the visit resulted in a subsequent readmission within 90 days                                       | 0/1 |\n",
        "| `READMISSION_30_DAY_IND`  | Indicator if the visit resulted in a subsequent readmission within 30 days                                       | 0/1 |\n",
        "| `FIRST_READMISSION_DATE`  | Date of the first readmission for drug overdose within 90 days. Leave N/A if no readmissions for drug overdose within 90 days. | Date/time |\n",
        "\n",
        "\n"
      ],
      "metadata": {
        "id": "J--UI9gTknFk"
      }
    },
    {
      "cell_type": "code",
      "source": [
        "# Create a copy of the dataframe\n",
        "df_final = df_readmission_30.copy()\n",
        "\n",
        "# Select columns\n",
        "df_final = df_final[[\n",
        "    'PATIENT',\n",
        "    'Id',\n",
        "    'START',\n",
        "    'AGE',\n",
        "    'DEATH_AT_VISIT_IND',\n",
        "    'COUNT_CURRENT_MEDS',\n",
        "    'CURRENT_OPIOID_IND',\n",
        "    'READMISSION_90_DAY_IND',\n",
        "    'READMISSION_30_DAY_IND',\n",
        "    'FIRST_READMISSION_DATE_90',\n",
        "]]\n",
        "\n",
        "# Rename columns\n",
        "df_final.rename(columns={\n",
        "    'PATIENT': 'PATIENT_ID',\n",
        "    'Id': 'ENCOUNTER_ID',\n",
        "    'START': 'HOSPITAL_ENCOUNTER_DATE',\n",
        "    'AGE': 'AGE_AT_VISIT',\n",
        "    'FIRST_READMISSION_DATE_90': 'FIRST_READMISSION_DATE',\n",
        "    }, inplace=True)\n",
        "\n",
        "# Export CSV\n",
        "export_dataframe_to_csv(df_final, 'LEE_WATERS.csv')"
      ],
      "metadata": {
        "colab": {
          "base_uri": "https://localhost:8080/",
          "height": 17
        },
        "id": "RFVy7MMonf8e",
        "outputId": "295ee931-e671-4c65-9f6f-c87e9ae9498f"
      },
      "execution_count": null,
      "outputs": [
        {
          "output_type": "display_data",
          "data": {
            "text/plain": [
              "<IPython.core.display.Javascript object>"
            ],
            "application/javascript": [
              "\n",
              "    async function download(id, filename, size) {\n",
              "      if (!google.colab.kernel.accessAllowed) {\n",
              "        return;\n",
              "      }\n",
              "      const div = document.createElement('div');\n",
              "      const label = document.createElement('label');\n",
              "      label.textContent = `Downloading \"${filename}\": `;\n",
              "      div.appendChild(label);\n",
              "      const progress = document.createElement('progress');\n",
              "      progress.max = size;\n",
              "      div.appendChild(progress);\n",
              "      document.body.appendChild(div);\n",
              "\n",
              "      const buffers = [];\n",
              "      let downloaded = 0;\n",
              "\n",
              "      const channel = await google.colab.kernel.comms.open(id);\n",
              "      // Send a message to notify the kernel that we're ready.\n",
              "      channel.send({})\n",
              "\n",
              "      for await (const message of channel.messages) {\n",
              "        // Send a message to notify the kernel that we're ready.\n",
              "        channel.send({})\n",
              "        if (message.buffers) {\n",
              "          for (const buffer of message.buffers) {\n",
              "            buffers.push(buffer);\n",
              "            downloaded += buffer.byteLength;\n",
              "            progress.value = downloaded;\n",
              "          }\n",
              "        }\n",
              "      }\n",
              "      const blob = new Blob(buffers, {type: 'application/binary'});\n",
              "      const a = document.createElement('a');\n",
              "      a.href = window.URL.createObjectURL(blob);\n",
              "      a.download = filename;\n",
              "      div.appendChild(a);\n",
              "      a.click();\n",
              "      div.remove();\n",
              "    }\n",
              "  "
            ]
          },
          "metadata": {}
        },
        {
          "output_type": "display_data",
          "data": {
            "text/plain": [
              "<IPython.core.display.Javascript object>"
            ],
            "application/javascript": [
              "download(\"download_5d8dfc68-8864-431b-a4ac-527663b3546f\", \"LEE_WATERS.csv\", 21634)"
            ]
          },
          "metadata": {}
        }
      ]
    }
  ]
}